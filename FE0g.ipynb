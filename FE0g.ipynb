{
 "cells": [
  {
   "cell_type": "code",
   "execution_count": 1,
   "id": "8e4bf215-d5b0-4d8e-8902-51c312ff81d1",
   "metadata": {},
   "outputs": [],
   "source": [
    "import pandas as pd\n",
    "import re\n",
    "import requests\n",
    "from urllib.parse import urlparse\n",
    "import ipaddress\n",
    "from datetime import datetime\n",
    "import whois\n",
    "from concurrent.futures import ThreadPoolExecutor"
   ]
  },
  {
   "cell_type": "code",
   "execution_count": 2,
   "id": "23b8b160-d3b6-431f-8da5-f5c91240838b",
   "metadata": {},
   "outputs": [],
   "source": [
    "# Load datasets\n",
    "phishing_data=pd.read_csv(\"online-valid.csv\")\n",
    "legitimate_data=pd.read_csv(\"Benign_list_big_final.csv\")\n",
    "legitimate_data.columns=['URLs']"
   ]
  },
  {
   "cell_type": "code",
   "execution_count": 3,
   "id": "247046a5-ffd2-45bb-8744-25e6ef7c341d",
   "metadata": {},
   "outputs": [],
   "source": [
    "# Sampling 5000 rows from each dataset to create balanced subsets\n",
    "phishing_sample=phishing_data.sample(n=5000,random_state=12).reset_index(drop=True)\n",
    "legitimate_sample=legitimate_data.sample(n=5000,random_state=12).reset_index(drop=True)"
   ]
  },
  {
   "cell_type": "markdown",
   "id": "89f2af28-ba39-43ef-9eb3-fb4231672d02",
   "metadata": {},
   "source": [
    "# Feature extraction functions"
   ]
  },
  {
   "cell_type": "code",
   "execution_count": 4,
   "id": "9e01c337-50e1-448c-8644-93b8cee2e3c7",
   "metadata": {},
   "outputs": [],
   "source": [
    "def extract_domain(url):\n",
    "    domain=urlparse(url).netloc\n",
    "    return domain.replace(\"www.\", \"\") if domain.startswith(\"www.\") else domain"
   ]
  },
  {
   "cell_type": "code",
   "execution_count": 5,
   "id": "bb97f9b9-6405-4cb6-8285-963449c78b16",
   "metadata": {},
   "outputs": [],
   "source": [
    "# Check if a URL contains an IP address\n",
    "def contains_ip(url):\n",
    "    try:\n",
    "        ipaddress.ip_address(url)\n",
    "        return 1\n",
    "    except ValueError:\n",
    "        return 0"
   ]
  },
  {
   "cell_type": "code",
   "execution_count": 6,
   "id": "9be8194d-8774-4842-91a5-2823c065a1c5",
   "metadata": {},
   "outputs": [],
   "source": [
    "# Check if a URL contains an '@' symbol\n",
    "def contains_at_sign(url):\n",
    "    return 1 if \"@\" in url else 0"
   ]
  },
  {
   "cell_type": "code",
   "execution_count": 7,
   "id": "785de270-de5e-47fa-bf48-61527b4e0d58",
   "metadata": {},
   "outputs": [],
   "source": [
    "# Check if the URL length is greater than or equal to 54 characters\n",
    "def get_url_length(url):\n",
    "    return 1 if len(url)>=54 else 0"
   ]
  },
  {
   "cell_type": "code",
   "execution_count": 8,
   "id": "273419e4-549f-4ff3-a0a1-281c0dc06ec4",
   "metadata": {},
   "outputs": [],
   "source": [
    "# Calculate the depth of a URL (number of path segments)\n",
    "def get_url_depth(url):\n",
    "    return len([segment for segment in urlparse(url).path.split('/') if segment])"
   ]
  },
  {
   "cell_type": "code",
   "execution_count": 9,
   "id": "442cf3cb-2e8d-4907-ad82-0ec43194df10",
   "metadata": {},
   "outputs": [],
   "source": [
    "# Check if the URL has redirection (\"//\" appearing after the protocol)\n",
    "def check_redirection(url):\n",
    "    return 1 if url.rfind('//')>7 else 0"
   ]
  },
  {
   "cell_type": "code",
   "execution_count": 10,
   "id": "6e6f3799-46a9-46ba-a99a-2681c0ee235c",
   "metadata": {},
   "outputs": [],
   "source": [
    "# Check if the domain part of the URL contains \"https\"\n",
    "def check_https_in_domain(url):\n",
    "    return 1 if 'https' in urlparse(url).netloc else 0"
   ]
  },
  {
   "cell_type": "code",
   "execution_count": 11,
   "id": "543f58f1-ef2b-430d-afe8-bb9d50a64868",
   "metadata": {},
   "outputs": [],
   "source": [
    "# Check if the URL uses a shortening service\n",
    "def check_shortening_service(url):\n",
    "    shortening_services=r\"bit\\.ly|goo\\.gl|shorte\\.st|t\\.co|tinyurl|ow\\.ly\"\n",
    "    return 1 if re.search(shortening_services, url) else 0"
   ]
  },
  {
   "cell_type": "code",
   "execution_count": 12,
   "id": "3fd4d361-910f-46f2-84b6-c1eea0da3c75",
   "metadata": {},
   "outputs": [],
   "source": [
    "# Check if the domain contains a prefix or suffix separated by '-'\n",
    "def check_prefix_suffix(url):\n",
    "    return 1 if '-' in urlparse(url).netloc else 0"
   ]
  },
  {
   "cell_type": "code",
   "execution_count": 13,
   "id": "ec6044cd-276e-4666-a5ab-cc38cda49a27",
   "metadata": {},
   "outputs": [],
   "source": [
    "# Retrieve WHOIS information for a domain\n",
    "def get_domain_info(url):\n",
    "    try:\n",
    "        return whois.whois(urlparse(url).netloc)\n",
    "    except:\n",
    "        return None"
   ]
  },
  {
   "cell_type": "code",
   "execution_count": 14,
   "id": "bcc3bf13-c080-45be-8864-330f13329521",
   "metadata": {},
   "outputs": [],
   "source": [
    "# Calculate the domain's age in months\n",
    "def calculate_domain_age(domain_info):\n",
    "    if domain_info and domain_info.creation_date and domain_info.expiration_date:\n",
    "        creation_date=domain_info.creation_date\n",
    "        expiration_date=domain_info.expiration_date\n",
    "        if isinstance(creation_date, list):\n",
    "            creation_date=creation_date[0]\n",
    "        if isinstance(expiration_date,list):\n",
    "            expiration_date=expiration_date[0]\n",
    "        age=(expiration_date-creation_date).days//30 if creation_date and expiration_date else 0\n",
    "        return 1 if age<6 else 0\n",
    "    return 1"
   ]
  },
  {
   "cell_type": "code",
   "execution_count": 15,
   "id": "6ce2f508-4d0c-46f5-9459-472c5187d8f9",
   "metadata": {},
   "outputs": [],
   "source": [
    "# Check if the domain expires in less than 6 months\n",
    "def calculate_domain_end(domain_info):\n",
    "    if domain_info and domain_info.expiration_date:\n",
    "        expiration_date=domain_info.expiration_date\n",
    "        if isinstance(expiration_date,list):\n",
    "            expiration_date=expiration_date[0]\n",
    "        end_time=(expiration_date-datetime.now()).days//30\n",
    "        return 0 if end_time<6 else 1\n",
    "    return 1"
   ]
  },
  {
   "cell_type": "code",
   "execution_count": 16,
   "id": "47c8e239-4f5d-4e14-a081-39034dd6231c",
   "metadata": {},
   "outputs": [],
   "source": [
    "def extract_features(url,label):\n",
    "    features=[]\n",
    "    try:\n",
    "        features.append(extract_domain(url)) # Domain name\n",
    "        features.append(contains_ip(url)) # IP presence\n",
    "        features.append(contains_at_sign(url)) # '@' symbol presence\n",
    "        features.append(get_url_length(url)) # URL length\n",
    "        features.append(get_url_depth(url)) # URL depth\n",
    "        features.append(check_redirection(url)) # Redirection check\n",
    "        features.append(check_https_in_domain(url)) # HTTPS in domain\n",
    "        features.append(check_shortening_service(url)) # URL shortening service check\n",
    "        features.append(check_prefix_suffix(url)) # Prefix/Suffix presence\n",
    "\n",
    "        domain_info=get_domain_info(url)\n",
    "        features.append(1 if domain_info is None else 0) # DNS record\n",
    "        features.append(1 if domain_info is None else calculate_domain_age(domain_info))\n",
    "        features.append(1 if domain_info is None else calculate_domain_end(domain_info))\n",
    "\n",
    "        try:\n",
    "            response=requests.get(url,timeout=5)\n",
    "            features.append(1 if re.findall(r\"<iframe>|<frameBorder>\",response.text)else 0)\n",
    "            features.append(1 if re.findall(\"<script>.+onmouseover.+</script>\",response.text)else 0)\n",
    "            features.append(1 if re.findall(r\"event.button ?== ?2\",response.text)else 0)\n",
    "            features.append(1 if len(response.history) > 2 else 0)\n",
    "        except requests.exceptions.RequestException:\n",
    "            features+=[1, 1, 1, 1]# Default values for failed requests\n",
    "    except Exception as e:\n",
    "        print(f\"Error processing URL {url}: {e}\")\n",
    "        features+=[1]*12# Default values for errors\n",
    "\n",
    "    features.append(label)\n",
    "    return features"
   ]
  },
  {
   "cell_type": "code",
   "execution_count": 17,
   "id": "057808b1-badd-4dd5-adc8-00738be9ae36",
   "metadata": {},
   "outputs": [],
   "source": [
    "# Optimization\n",
    "def process_urls(urls,label):\n",
    "    with ThreadPoolExecutor() as executor:\n",
    "        results=list(executor.map(lambda url:extract_features(url,label),urls))\n",
    "    return results"
   ]
  },
  {
   "cell_type": "code",
   "execution_count": 18,
   "id": "32002b7d-a390-4e34-9510-cc1ce0462b12",
   "metadata": {},
   "outputs": [],
   "source": [
    "# Extract features for both legitimate and phishing datasets\n",
    "legitimate_features=process_urls(legitimate_sample['URLs'],0)\n",
    "phishing_features=process_urls(phishing_sample['url'],1)"
   ]
  },
  {
   "cell_type": "code",
   "execution_count": 19,
   "id": "65dc9cb4-39d4-4e51-bc5d-1be7cb739a40",
   "metadata": {},
   "outputs": [],
   "source": [
    "# Convert the extracted features into dataframes\n",
    "legitimate_df=pd.DataFrame(legitimate_features,columns=[\n",
    "    'Domain','Have_IP','Have_At','URL_Length','URL_Depth','Redirection',\n",
    "    'https_Domain','TinyURL','Prefix/Suffix','DNS_Record',\n",
    "    'Domain_Age','Domain_End','iFrame','Mouse_Over','Right_Click','Web_Forwards','Label'])\n",
    "phishing_df=pd.DataFrame(phishing_features,columns=[\n",
    "    'Domain','Have_IP','Have_At','URL_Length','URL_Depth','Redirection',\n",
    "    'https_Domain','TinyURL','Prefix/Suffix','DNS_Record',\n",
    "    'Domain_Age','Domain_End','iFrame','Mouse_Over','Right_Click','Web_Forwards','Label'])"
   ]
  },
  {
   "cell_type": "code",
   "execution_count": 20,
   "id": "e330f666-6356-4499-b0da-cf6bf7433894",
   "metadata": {},
   "outputs": [],
   "source": [
    "# Save the extracted features to CSV files\n",
    "legitimate_df.to_csv('legitimate.csv',index=False)\n",
    "phishing_df.to_csv('phishing.csv',index=False)"
   ]
  },
  {
   "cell_type": "code",
   "execution_count": 21,
   "id": "3fef9e9a-e4b3-46d0-822d-f4c5647a59fc",
   "metadata": {},
   "outputs": [
    {
     "name": "stdout",
     "output_type": "stream",
     "text": [
      "Hello World\n"
     ]
    }
   ],
   "source": [
    "# Combine both datasets for further analysis\n",
    "final_data=pd.concat([legitimate_df,phishing_df]).reset_index(drop=True)\n",
    "final_data.to_csv('combined.csv',index=False)\n",
    "print(\"Hello World\")"
   ]
  },
  {
   "cell_type": "code",
   "execution_count": null,
   "id": "f2931b7e-38e6-4a22-a613-ca330b488b0d",
   "metadata": {},
   "outputs": [],
   "source": []
  }
 ],
 "metadata": {
  "kernelspec": {
   "display_name": "Python 3 (ipykernel)",
   "language": "python",
   "name": "python3"
  },
  "language_info": {
   "codemirror_mode": {
    "name": "ipython",
    "version": 3
   },
   "file_extension": ".py",
   "mimetype": "text/x-python",
   "name": "python",
   "nbconvert_exporter": "python",
   "pygments_lexer": "ipython3",
   "version": "3.11.7"
  }
 },
 "nbformat": 4,
 "nbformat_minor": 5
}
